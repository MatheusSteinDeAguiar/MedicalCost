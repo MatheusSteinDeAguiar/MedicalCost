{
  "nbformat": 4,
  "nbformat_minor": 0,
  "metadata": {
    "colab": {
      "name": "MedicalCost2.ipynb",
      "provenance": [],
      "collapsed_sections": [],
      "authorship_tag": "ABX9TyOukTv2UiZzp4kXGBhmdjJK",
      "include_colab_link": true
    },
    "kernelspec": {
      "name": "python3",
      "display_name": "Python 3"
    },
    "language_info": {
      "name": "python"
    }
  },
  "cells": [
    {
      "cell_type": "markdown",
      "metadata": {
        "id": "view-in-github",
        "colab_type": "text"
      },
      "source": [
        "<a href=\"https://colab.research.google.com/github/MatheusSteinDeAguiar/MedicalCost/blob/main/MedicalCost2.ipynb\" target=\"_parent\"><img src=\"https://colab.research.google.com/assets/colab-badge.svg\" alt=\"Open In Colab\"/></a>"
      ]
    },
    {
      "cell_type": "markdown",
      "metadata": {
        "id": "WhN3tqTZYAg6"
      },
      "source": [
        "# Medical Cost"
      ]
    },
    {
      "cell_type": "markdown",
      "metadata": {
        "id": "d1vacI12YEWd"
      },
      "source": [
        "## Importação de dados"
      ]
    },
    {
      "cell_type": "code",
      "metadata": {
        "colab": {
          "base_uri": "https://localhost:8080/",
          "height": 204
        },
        "id": "peBvYiPwX2_5",
        "outputId": "5003c7a7-5782-431c-b834-adeb6928d6b0"
      },
      "source": [
        "import pandas as pd\n",
        "\n",
        "url = 'https://raw.githubusercontent.com/gitflai/DDS4/main/insurance.csv'\n",
        "dados = pd.read_csv(url)\n",
        "dados.head()"
      ],
      "execution_count": 1,
      "outputs": [
        {
          "output_type": "execute_result",
          "data": {
            "text/html": [
              "<div>\n",
              "<style scoped>\n",
              "    .dataframe tbody tr th:only-of-type {\n",
              "        vertical-align: middle;\n",
              "    }\n",
              "\n",
              "    .dataframe tbody tr th {\n",
              "        vertical-align: top;\n",
              "    }\n",
              "\n",
              "    .dataframe thead th {\n",
              "        text-align: right;\n",
              "    }\n",
              "</style>\n",
              "<table border=\"1\" class=\"dataframe\">\n",
              "  <thead>\n",
              "    <tr style=\"text-align: right;\">\n",
              "      <th></th>\n",
              "      <th>age</th>\n",
              "      <th>sex</th>\n",
              "      <th>bmi</th>\n",
              "      <th>children</th>\n",
              "      <th>smoker</th>\n",
              "      <th>region</th>\n",
              "      <th>charges</th>\n",
              "    </tr>\n",
              "  </thead>\n",
              "  <tbody>\n",
              "    <tr>\n",
              "      <th>0</th>\n",
              "      <td>19</td>\n",
              "      <td>female</td>\n",
              "      <td>27.900</td>\n",
              "      <td>0</td>\n",
              "      <td>yes</td>\n",
              "      <td>southwest</td>\n",
              "      <td>16884.92400</td>\n",
              "    </tr>\n",
              "    <tr>\n",
              "      <th>1</th>\n",
              "      <td>18</td>\n",
              "      <td>male</td>\n",
              "      <td>33.770</td>\n",
              "      <td>1</td>\n",
              "      <td>no</td>\n",
              "      <td>southeast</td>\n",
              "      <td>1725.55230</td>\n",
              "    </tr>\n",
              "    <tr>\n",
              "      <th>2</th>\n",
              "      <td>28</td>\n",
              "      <td>male</td>\n",
              "      <td>33.000</td>\n",
              "      <td>3</td>\n",
              "      <td>no</td>\n",
              "      <td>southeast</td>\n",
              "      <td>4449.46200</td>\n",
              "    </tr>\n",
              "    <tr>\n",
              "      <th>3</th>\n",
              "      <td>33</td>\n",
              "      <td>male</td>\n",
              "      <td>22.705</td>\n",
              "      <td>0</td>\n",
              "      <td>no</td>\n",
              "      <td>northwest</td>\n",
              "      <td>21984.47061</td>\n",
              "    </tr>\n",
              "    <tr>\n",
              "      <th>4</th>\n",
              "      <td>32</td>\n",
              "      <td>male</td>\n",
              "      <td>28.880</td>\n",
              "      <td>0</td>\n",
              "      <td>no</td>\n",
              "      <td>northwest</td>\n",
              "      <td>3866.85520</td>\n",
              "    </tr>\n",
              "  </tbody>\n",
              "</table>\n",
              "</div>"
            ],
            "text/plain": [
              "   age     sex     bmi  children smoker     region      charges\n",
              "0   19  female  27.900         0    yes  southwest  16884.92400\n",
              "1   18    male  33.770         1     no  southeast   1725.55230\n",
              "2   28    male  33.000         3     no  southeast   4449.46200\n",
              "3   33    male  22.705         0     no  northwest  21984.47061\n",
              "4   32    male  28.880         0     no  northwest   3866.85520"
            ]
          },
          "metadata": {},
          "execution_count": 1
        }
      ]
    },
    {
      "cell_type": "markdown",
      "metadata": {
        "id": "-lUJdrAVYN1V"
      },
      "source": [
        "## \"*Mise en place*\" dos dados"
      ]
    },
    {
      "cell_type": "code",
      "metadata": {
        "id": "VsHCZDcxYANN"
      },
      "source": [
        "dados['smoker'] = dados['smoker'].map({'yes': 1, 'no': 0})\n",
        "dados['charges'] = dados['charges']/1000 \n",
        "dados['sex'] = dados['sex'].map({'male': 1, 'female': 0})\n",
        "dados['region'] = dados['region'].map({'northeast': 3, 'northwest': 2, 'southeast': 1, 'southwest': 0})"
      ],
      "execution_count": 2,
      "outputs": []
    },
    {
      "cell_type": "markdown",
      "metadata": {
        "id": "Z7HUGqrDZGvb"
      },
      "source": [
        "## Tecnica de validação K-fold"
      ]
    },
    {
      "cell_type": "code",
      "metadata": {
        "id": "Qq55jh19YZyh"
      },
      "source": [
        "from sklearn.model_selection import KFold\n",
        "from sklearn.model_selection import cross_validate\n",
        "\n",
        "validacao = KFold(n_splits = 10, shuffle = True)"
      ],
      "execution_count": 3,
      "outputs": []
    },
    {
      "cell_type": "code",
      "metadata": {
        "id": "HT5-OsDHdQ4z"
      },
      "source": [
        "from sklearn.linear_model import LogisticRegression\n",
        "\n",
        "X = dados[['bmi', 'charges']]\n",
        "y = dados['smoker'] \n",
        "\n",
        "modelo = LogisticRegression()"
      ],
      "execution_count": 4,
      "outputs": []
    },
    {
      "cell_type": "code",
      "metadata": {
        "colab": {
          "base_uri": "https://localhost:8080/"
        },
        "id": "q17HyYJxdbz-",
        "outputId": "48f66299-851e-4313-d2fc-bf88dac72491"
      },
      "source": [
        "reglog = cross_validate(modelo, X, y, cv = validacao, scoring=['accuracy', 'recall', 'precision'])\n",
        "reglog"
      ],
      "execution_count": 5,
      "outputs": [
        {
          "output_type": "execute_result",
          "data": {
            "text/plain": [
              "{'fit_time': array([0.04039478, 0.01613569, 0.02551055, 0.01496267, 0.01572776,\n",
              "        0.01576662, 0.01458859, 0.01465273, 0.01353145, 0.017066  ]),\n",
              " 'score_time': array([0.00469351, 0.00518966, 0.00614047, 0.00417876, 0.00422406,\n",
              "        0.004004  , 0.00432777, 0.00448418, 0.00409555, 0.00446677]),\n",
              " 'test_accuracy': array([0.90298507, 0.92537313, 0.91791045, 0.94776119, 0.95522388,\n",
              "        0.93283582, 0.98507463, 0.85820896, 0.95488722, 0.92481203]),\n",
              " 'test_precision': array([0.92307692, 0.76190476, 0.88      , 0.86956522, 0.82758621,\n",
              "        0.85185185, 1.        , 0.78787879, 0.86956522, 0.81481481]),\n",
              " 'test_recall': array([0.68571429, 0.76190476, 0.73333333, 0.83333333, 0.96      ,\n",
              "        0.82142857, 0.91304348, 0.68421053, 0.86956522, 0.81481481])}"
            ]
          },
          "metadata": {},
          "execution_count": 5
        }
      ]
    },
    {
      "cell_type": "code",
      "metadata": {
        "colab": {
          "base_uri": "https://localhost:8080/"
        },
        "id": "H48WExGNdy6q",
        "outputId": "a906f641-ee9f-472f-a3ab-d6fda3650e28"
      },
      "source": [
        "acuracia = round(reglog['test_accuracy'].mean(), 4)\n",
        "sensibilidade = round(reglog['test_recall'].mean(), 4)\n",
        "precisao = round(reglog['test_precision'].mean(), 4)\n",
        "\n",
        "print(\"Acurácia: \", acuracia)\n",
        "print(\"Sensibilidade: \", sensibilidade)\n",
        "print(\"Precisão: \", precisao)"
      ],
      "execution_count": 6,
      "outputs": [
        {
          "output_type": "stream",
          "text": [
            "Acurácia:  0.9305\n",
            "Sensibilidade:  0.8077\n",
            "Precisão:  0.8586\n"
          ],
          "name": "stdout"
        }
      ]
    },
    {
      "cell_type": "markdown",
      "metadata": {
        "id": "GozFnz1aj33R"
      },
      "source": [
        "Sendo assim pode-se extrair disso que:\n",
        "- a taxa de acerto (acurácia) do modelo é estimada em aproximadamente 93,1%.\n",
        "- a capacidade de avaliar os verdadeiros positivos (sensibilidade) é estimada em aproximadamente 80,1%.\n",
        "- e a capacidade de acertar (precisão) as estimativas, é de aproximadamente 85,3%\n"
      ]
    },
    {
      "cell_type": "markdown",
      "metadata": {
        "id": "79C9yjwklcdy"
      },
      "source": [
        "## KNN"
      ]
    },
    {
      "cell_type": "code",
      "metadata": {
        "colab": {
          "base_uri": "https://localhost:8080/"
        },
        "id": "wIGemnMPg5d0",
        "outputId": "a954dee1-bbef-483a-a712-77e34ba415c5"
      },
      "source": [
        "from sklearn.neighbors import KNeighborsClassifier\n",
        "\n",
        "X = dados[['bmi', 'charges']]\n",
        "y = dados['smoker'] \n",
        "\n",
        "k = 27\n",
        "modelo = KNeighborsClassifier(n_neighbors = k)\n",
        "knn = cross_validate(modelo, X, y, cv = validacao, scoring=['accuracy', 'recall', 'precision'])\n",
        "\n",
        "acuracia = round(knn['test_accuracy'].mean(), 4)\n",
        "sensibilidade = round(knn['test_recall'].mean(), 4)\n",
        "precisao = round(knn['test_precision'].mean(), 4)\n",
        "\n",
        "print(\"Acurácia: \", acuracia)\n",
        "print(\"Sensibilidade: \", sensibilidade)\n",
        "print(\"Precisão: \", precisao)"
      ],
      "execution_count": 7,
      "outputs": [
        {
          "output_type": "stream",
          "text": [
            "Acurácia:  0.9589\n",
            "Sensibilidade:  0.9593\n",
            "Precisão:  0.8594\n"
          ],
          "name": "stdout"
        }
      ]
    },
    {
      "cell_type": "markdown",
      "metadata": {
        "id": "V9MrWL8lmWKe"
      },
      "source": [
        "## Decision Tree"
      ]
    },
    {
      "cell_type": "code",
      "metadata": {
        "colab": {
          "base_uri": "https://localhost:8080/"
        },
        "id": "JOwmETQUl978",
        "outputId": "0dc1fa0d-f836-4c42-8dca-5ac38f23791a"
      },
      "source": [
        "from sklearn.tree import DecisionTreeClassifier\n",
        "\n",
        "X = dados[['bmi', 'charges']]\n",
        "y = dados['smoker'] \n",
        "\n",
        "profundidade = 4\n",
        "modelo = DecisionTreeClassifier(max_depth = profundidade, min_samples_leaf= 4)\n",
        "tree = cross_validate(modelo, X, y, cv = validacao, scoring=['accuracy', 'recall', 'precision'])\n",
        "\n",
        "acuracia = round(tree['test_accuracy'].mean(), 4)\n",
        "sensibilidade = round(tree['test_recall'].mean(), 4)\n",
        "precisao = round(tree['test_precision'].mean(), 4)\n",
        "\n",
        "print(\"Acurácia: \", acuracia)\n",
        "print(\"Sensibilidade: \", sensibilidade)\n",
        "print(\"Precisão: \", precisao)"
      ],
      "execution_count": 8,
      "outputs": [
        {
          "output_type": "stream",
          "text": [
            "Acurácia:  0.9611\n",
            "Sensibilidade:  0.9597\n",
            "Precisão:  0.8648\n"
          ],
          "name": "stdout"
        }
      ]
    },
    {
      "cell_type": "markdown",
      "metadata": {
        "id": "HVJk4X89s771"
      },
      "source": [
        "## Procurando o melhor k para o KNN"
      ]
    },
    {
      "cell_type": "code",
      "metadata": {
        "colab": {
          "base_uri": "https://localhost:8080/"
        },
        "id": "VA6pbU1moOGB",
        "outputId": "586bacce-1549-49b5-d1bc-bdae5cfbd0af"
      },
      "source": [
        "from sklearn.neighbors import KNeighborsClassifier\n",
        "\n",
        "X = dados[['bmi', 'charges']]\n",
        "y = dados['smoker'] \n",
        "\n",
        "list_acuracia = []\n",
        "list_sensibilidade = []\n",
        "list_precisao = []\n",
        "\n",
        "vetor_ks = [1, 3, 5, 7, 9]\n",
        "\n",
        "for k in vetor_ks:\n",
        "  modelo = KNeighborsClassifier(n_neighbors = k)\n",
        "  knn = cross_validate(modelo, X, y, cv = validacao, scoring=['accuracy', 'recall', 'precision'])\n",
        "\n",
        "  acuracia = round(knn['test_accuracy'].mean(), 4)\n",
        "  sensibilidade = round(knn['test_recall'].mean(), 4)\n",
        "  precisao = round(knn['test_precision'].mean(), 4)\n",
        "\n",
        "  list_acuracia.append(acuracia)\n",
        "  list_sensibilidade.append(sensibilidade)\n",
        "  list_precisao.append(precisao)\n",
        "\n",
        "aux = {'Acurácia': list_acuracia, 'Sensibilidade': list_sensibilidade, 'Precisão': list_precisao}\n",
        "resultados = pd.DataFrame(aux, index = vetor_ks)\n",
        "resultados\n",
        "print(\"Ordenado por Acurácia: \\n\", resultados.sort_values(by = 'Acurácia'))\n",
        "print(\"\\n\\nOrdenado por Acurácia: \\n\",resultados.sort_values(by = 'Precisão'))\n",
        "\n",
        "# for k in range(100):\n",
        "#    modelo = KNeighborsClassifier(n_neighbors = k)\n",
        "#    knn = cross_validate(modelo, X, y, cv = validacao, scoring='accuracy')\n",
        "#    acuracia = knn['test_score'].mean(), 4)\n",
        "#    resultados.append(acuracia)\n"
      ],
      "execution_count": 9,
      "outputs": [
        {
          "output_type": "stream",
          "text": [
            "Ordenado por Acurácia: \n",
            "    Acurácia  Sensibilidade  Precisão\n",
            "1    0.9537         0.8844    0.8938\n",
            "3    0.9551         0.9123    0.8725\n",
            "7    0.9559         0.9366    0.8576\n",
            "9    0.9581         0.9552    0.8514\n",
            "5    0.9589         0.9393    0.8667\n",
            "\n",
            "\n",
            "Ordenado por Acurácia: \n",
            "    Acurácia  Sensibilidade  Precisão\n",
            "9    0.9581         0.9552    0.8514\n",
            "7    0.9559         0.9366    0.8576\n",
            "5    0.9589         0.9393    0.8667\n",
            "3    0.9551         0.9123    0.8725\n",
            "1    0.9537         0.8844    0.8938\n"
          ],
          "name": "stdout"
        }
      ]
    },
    {
      "cell_type": "markdown",
      "metadata": {
        "id": "mCZIWb9hsD6s"
      },
      "source": [
        "## K-Fold Repetido e Combinação de modelos"
      ]
    },
    {
      "cell_type": "code",
      "metadata": {
        "id": "PqITZJ5tsEaU"
      },
      "source": [
        "from sklearn.model_selection import RepeatedKFold\n",
        "from sklearn.model_selection import cross_validate\n",
        "\n",
        "validacao = RepeatedKFold(n_splits = 10, n_repeats = 3)"
      ],
      "execution_count": 10,
      "outputs": []
    },
    {
      "cell_type": "code",
      "metadata": {
        "id": "vTsQH43ms1wB"
      },
      "source": [
        "from sklearn.linear_model import LogisticRegression\n",
        "from sklearn.tree import DecisionTreeClassifier\n",
        "from sklearn.neighbors import KNeighborsClassifier"
      ],
      "execution_count": 11,
      "outputs": []
    },
    {
      "cell_type": "code",
      "metadata": {
        "id": "zbNLD1KJtz80"
      },
      "source": [
        "X = dados[['bmi', 'charges']]\n",
        "y = dados['smoker'] "
      ],
      "execution_count": 12,
      "outputs": []
    },
    {
      "cell_type": "code",
      "metadata": {
        "colab": {
          "base_uri": "https://localhost:8080/"
        },
        "id": "T-ZG7AyIs6wP",
        "outputId": "bb291e38-3ef7-4670-b39c-066f663b6e53"
      },
      "source": [
        "modelo = LogisticRegression()\n",
        "medidas = cross_validate(modelo, X, y, cv = validacao, scoring=\"accuracy\")\n",
        "medidas['test_score'].mean()"
      ],
      "execution_count": 13,
      "outputs": [
        {
          "output_type": "execute_result",
          "data": {
            "text/plain": [
              "0.9319979052107883"
            ]
          },
          "metadata": {},
          "execution_count": 13
        }
      ]
    },
    {
      "cell_type": "code",
      "metadata": {
        "colab": {
          "base_uri": "https://localhost:8080/"
        },
        "id": "YLisFHEEtuWV",
        "outputId": "2a01e82c-5fed-4847-9e16-ce1941894796"
      },
      "source": [
        "profundidade = 4\n",
        "tamanho_folha = 4\n",
        "\n",
        "modelo = DecisionTreeClassifier(max_depth = profundidade, min_samples_leaf= tamanho_folha)\n",
        "medidas = cross_validate(modelo, X, y, cv = validacao, scoring=\"accuracy\")\n",
        "medidas['test_score'].mean()"
      ],
      "execution_count": 14,
      "outputs": [
        {
          "output_type": "execute_result",
          "data": {
            "text/plain": [
              "0.9568903602289305"
            ]
          },
          "metadata": {},
          "execution_count": 14
        }
      ]
    },
    {
      "cell_type": "code",
      "metadata": {
        "colab": {
          "base_uri": "https://localhost:8080/"
        },
        "id": "sBIO1AFMuAhi",
        "outputId": "917ba447-638a-461c-b218-cfe3c2ab766c"
      },
      "source": [
        "k = 23\n",
        "\n",
        "modelo = KNeighborsClassifier(n_neighbors = k)\n",
        "medidas = cross_validate(modelo, X, y, cv = validacao, scoring=\"accuracy\")\n",
        "medidas['test_score'].mean()"
      ],
      "execution_count": 15,
      "outputs": [
        {
          "output_type": "execute_result",
          "data": {
            "text/plain": [
              "0.9616204690831558"
            ]
          },
          "metadata": {},
          "execution_count": 15
        }
      ]
    },
    {
      "cell_type": "markdown",
      "metadata": {
        "id": "b7N7NBTVz5Xc"
      },
      "source": [
        "### Hard Decision"
      ]
    },
    {
      "cell_type": "code",
      "metadata": {
        "colab": {
          "base_uri": "https://localhost:8080/"
        },
        "id": "jDefNeQZubeh",
        "outputId": "476a3b3a-41d0-4ff2-f76c-be180ce32865"
      },
      "source": [
        "from sklearn.ensemble import VotingClassifier\n",
        "\n",
        "profundidade = 4\n",
        "tamanho_folha = 4\n",
        "k = 27\n",
        "\n",
        "reglog = LogisticRegression()\n",
        "tree = DecisionTreeClassifier(max_depth = profundidade, min_samples_leaf= tamanho_folha)\n",
        "knn = KNeighborsClassifier(n_neighbors = k)\n",
        "\n",
        "modelos = [('Reg Log', reglog), ('Decision Tree', tree), ('KNN', knn)]\n",
        "\n",
        "modelo = VotingClassifier(modelos, voting = 'hard')\n",
        "medidas = cross_validate(modelo, X, y, cv = validacao, scoring=\"accuracy\")\n",
        "medidas['test_score'].mean()"
      ],
      "execution_count": 16,
      "outputs": [
        {
          "output_type": "execute_result",
          "data": {
            "text/plain": [
              "0.9648804847940747"
            ]
          },
          "metadata": {},
          "execution_count": 16
        }
      ]
    },
    {
      "cell_type": "markdown",
      "metadata": {
        "id": "Vl6T2xAE0Bp8"
      },
      "source": [
        "### Soft Decision"
      ]
    },
    {
      "cell_type": "code",
      "metadata": {
        "colab": {
          "base_uri": "https://localhost:8080/"
        },
        "id": "9w-z1vHryU0i",
        "outputId": "35d08db7-1342-4772-996c-2f2fc9f6f625"
      },
      "source": [
        "modelo = VotingClassifier(modelos, voting = 'soft')\n",
        "medidas = cross_validate(modelo, X, y, cv = validacao, scoring=\"accuracy\")\n",
        "medidas['test_score'].mean()"
      ],
      "execution_count": 17,
      "outputs": [
        {
          "output_type": "execute_result",
          "data": {
            "text/plain": [
              "0.9641267347473161"
            ]
          },
          "metadata": {},
          "execution_count": 17
        }
      ]
    },
    {
      "cell_type": "markdown",
      "metadata": {
        "id": "HgQBDxzH3fWE"
      },
      "source": [
        "## Bagging de modelos"
      ]
    },
    {
      "cell_type": "code",
      "metadata": {
        "colab": {
          "base_uri": "https://localhost:8080/"
        },
        "id": "-lQahKgt0G-P",
        "outputId": "93a8c4f9-fbf2-40ec-b060-29efa1c5b9cb"
      },
      "source": [
        "from sklearn.ensemble import BaggingClassifier\n",
        "\n",
        "modelo = BaggingClassifier(n_estimators = 50)\n",
        "medidas = cross_validate(modelo, X, y, cv = validacao, scoring=\"accuracy\")\n",
        "medidas['test_score'].mean()"
      ],
      "execution_count": 18,
      "outputs": [
        {
          "output_type": "execute_result",
          "data": {
            "text/plain": [
              "0.9539127669921073"
            ]
          },
          "metadata": {},
          "execution_count": 18
        }
      ]
    },
    {
      "cell_type": "markdown",
      "metadata": {
        "id": "orPMhT5o82zJ"
      },
      "source": [
        "## Random Forest"
      ]
    },
    {
      "cell_type": "code",
      "metadata": {
        "colab": {
          "base_uri": "https://localhost:8080/"
        },
        "id": "97B_E-O98018",
        "outputId": "dbdaf502-1a3c-468d-aecb-14eb9ee74ae6"
      },
      "source": [
        "from sklearn.ensemble import RandomForestClassifier\n",
        "\n",
        "modelo = RandomForestClassifier(n_estimators = 150, max_depth = 4, criterion=\"entropy\", max_features = 'auto', min_samples_leaf=4)\n",
        "medidas = cross_validate(modelo, X, y, cv = validacao, scoring=\"accuracy\")\n",
        "medidas['test_score'].mean()\n"
      ],
      "execution_count": 19,
      "outputs": [
        {
          "output_type": "execute_result",
          "data": {
            "text/plain": [
              "0.9633711143530467"
            ]
          },
          "metadata": {},
          "execution_count": 19
        }
      ]
    },
    {
      "cell_type": "markdown",
      "metadata": {
        "id": "WPprwbO-_Zvl"
      },
      "source": [
        "# Procurando o modelo que tenha a melhor acurácia"
      ]
    },
    {
      "cell_type": "code",
      "metadata": {
        "colab": {
          "base_uri": "https://localhost:8080/"
        },
        "id": "TfECJPLS_eBc",
        "outputId": "268d3845-4ff8-4a1f-de40-0989c62d3766"
      },
      "source": [
        "list_acuracia = []\n",
        "list_sensibilidade = []\n",
        "list_precisao = []\n",
        "vetor_ks = []\n",
        "\n",
        "for k in range(50):\n",
        "  modelo = KNeighborsClassifier(n_neighbors = k)\n",
        "  knn = cross_validate(modelo, X, y, cv = validacao, scoring=['accuracy', 'recall', 'precision'])\n",
        "  \n",
        "  acuracia = round(knn['test_accuracy'].mean(), 4)\n",
        "  sensibilidade = round(knn['test_recall'].mean(), 4)\n",
        "  precisao = round(knn['test_precision'].mean(), 4)\n",
        "\n",
        "  vetor_ks.append(k)\n",
        "  list_acuracia.append(acuracia)\n",
        "  list_sensibilidade.append(sensibilidade)\n",
        "  list_precisao.append(precisao)\n",
        "\n",
        "aux = {'Acurácia': list_acuracia, 'Sensibilidade': list_sensibilidade, 'Precisão': list_precisao}\n",
        "resultados = pd.DataFrame(aux, index = vetor_ks)\n",
        "resultados\n",
        "print(\"Ordenado por Acurácia: \\n\", resultados.sort_values(by = 'Acurácia'))"
      ],
      "execution_count": 20,
      "outputs": [
        {
          "output_type": "stream",
          "text": [
            "/usr/local/lib/python3.7/dist-packages/sklearn/model_selection/_validation.py:536: FitFailedWarning: Estimator fit failed. The score on this train-test partition for these parameters will be set to nan. Details: \n",
            "ValueError: Expected n_neighbors > 0. Got 0\n",
            "\n",
            "  FitFailedWarning)\n",
            "/usr/local/lib/python3.7/dist-packages/sklearn/model_selection/_validation.py:536: FitFailedWarning: Estimator fit failed. The score on this train-test partition for these parameters will be set to nan. Details: \n",
            "ValueError: Expected n_neighbors > 0. Got 0\n",
            "\n",
            "  FitFailedWarning)\n",
            "/usr/local/lib/python3.7/dist-packages/sklearn/model_selection/_validation.py:536: FitFailedWarning: Estimator fit failed. The score on this train-test partition for these parameters will be set to nan. Details: \n",
            "ValueError: Expected n_neighbors > 0. Got 0\n",
            "\n",
            "  FitFailedWarning)\n",
            "/usr/local/lib/python3.7/dist-packages/sklearn/model_selection/_validation.py:536: FitFailedWarning: Estimator fit failed. The score on this train-test partition for these parameters will be set to nan. Details: \n",
            "ValueError: Expected n_neighbors > 0. Got 0\n",
            "\n",
            "  FitFailedWarning)\n",
            "/usr/local/lib/python3.7/dist-packages/sklearn/model_selection/_validation.py:536: FitFailedWarning: Estimator fit failed. The score on this train-test partition for these parameters will be set to nan. Details: \n",
            "ValueError: Expected n_neighbors > 0. Got 0\n",
            "\n",
            "  FitFailedWarning)\n",
            "/usr/local/lib/python3.7/dist-packages/sklearn/model_selection/_validation.py:536: FitFailedWarning: Estimator fit failed. The score on this train-test partition for these parameters will be set to nan. Details: \n",
            "ValueError: Expected n_neighbors > 0. Got 0\n",
            "\n",
            "  FitFailedWarning)\n",
            "/usr/local/lib/python3.7/dist-packages/sklearn/model_selection/_validation.py:536: FitFailedWarning: Estimator fit failed. The score on this train-test partition for these parameters will be set to nan. Details: \n",
            "ValueError: Expected n_neighbors > 0. Got 0\n",
            "\n",
            "  FitFailedWarning)\n",
            "/usr/local/lib/python3.7/dist-packages/sklearn/model_selection/_validation.py:536: FitFailedWarning: Estimator fit failed. The score on this train-test partition for these parameters will be set to nan. Details: \n",
            "ValueError: Expected n_neighbors > 0. Got 0\n",
            "\n",
            "  FitFailedWarning)\n",
            "/usr/local/lib/python3.7/dist-packages/sklearn/model_selection/_validation.py:536: FitFailedWarning: Estimator fit failed. The score on this train-test partition for these parameters will be set to nan. Details: \n",
            "ValueError: Expected n_neighbors > 0. Got 0\n",
            "\n",
            "  FitFailedWarning)\n",
            "/usr/local/lib/python3.7/dist-packages/sklearn/model_selection/_validation.py:536: FitFailedWarning: Estimator fit failed. The score on this train-test partition for these parameters will be set to nan. Details: \n",
            "ValueError: Expected n_neighbors > 0. Got 0\n",
            "\n",
            "  FitFailedWarning)\n",
            "/usr/local/lib/python3.7/dist-packages/sklearn/model_selection/_validation.py:536: FitFailedWarning: Estimator fit failed. The score on this train-test partition for these parameters will be set to nan. Details: \n",
            "ValueError: Expected n_neighbors > 0. Got 0\n",
            "\n",
            "  FitFailedWarning)\n",
            "/usr/local/lib/python3.7/dist-packages/sklearn/model_selection/_validation.py:536: FitFailedWarning: Estimator fit failed. The score on this train-test partition for these parameters will be set to nan. Details: \n",
            "ValueError: Expected n_neighbors > 0. Got 0\n",
            "\n",
            "  FitFailedWarning)\n",
            "/usr/local/lib/python3.7/dist-packages/sklearn/model_selection/_validation.py:536: FitFailedWarning: Estimator fit failed. The score on this train-test partition for these parameters will be set to nan. Details: \n",
            "ValueError: Expected n_neighbors > 0. Got 0\n",
            "\n",
            "  FitFailedWarning)\n",
            "/usr/local/lib/python3.7/dist-packages/sklearn/model_selection/_validation.py:536: FitFailedWarning: Estimator fit failed. The score on this train-test partition for these parameters will be set to nan. Details: \n",
            "ValueError: Expected n_neighbors > 0. Got 0\n",
            "\n",
            "  FitFailedWarning)\n",
            "/usr/local/lib/python3.7/dist-packages/sklearn/model_selection/_validation.py:536: FitFailedWarning: Estimator fit failed. The score on this train-test partition for these parameters will be set to nan. Details: \n",
            "ValueError: Expected n_neighbors > 0. Got 0\n",
            "\n",
            "  FitFailedWarning)\n",
            "/usr/local/lib/python3.7/dist-packages/sklearn/model_selection/_validation.py:536: FitFailedWarning: Estimator fit failed. The score on this train-test partition for these parameters will be set to nan. Details: \n",
            "ValueError: Expected n_neighbors > 0. Got 0\n",
            "\n",
            "  FitFailedWarning)\n",
            "/usr/local/lib/python3.7/dist-packages/sklearn/model_selection/_validation.py:536: FitFailedWarning: Estimator fit failed. The score on this train-test partition for these parameters will be set to nan. Details: \n",
            "ValueError: Expected n_neighbors > 0. Got 0\n",
            "\n",
            "  FitFailedWarning)\n",
            "/usr/local/lib/python3.7/dist-packages/sklearn/model_selection/_validation.py:536: FitFailedWarning: Estimator fit failed. The score on this train-test partition for these parameters will be set to nan. Details: \n",
            "ValueError: Expected n_neighbors > 0. Got 0\n",
            "\n",
            "  FitFailedWarning)\n",
            "/usr/local/lib/python3.7/dist-packages/sklearn/model_selection/_validation.py:536: FitFailedWarning: Estimator fit failed. The score on this train-test partition for these parameters will be set to nan. Details: \n",
            "ValueError: Expected n_neighbors > 0. Got 0\n",
            "\n",
            "  FitFailedWarning)\n",
            "/usr/local/lib/python3.7/dist-packages/sklearn/model_selection/_validation.py:536: FitFailedWarning: Estimator fit failed. The score on this train-test partition for these parameters will be set to nan. Details: \n",
            "ValueError: Expected n_neighbors > 0. Got 0\n",
            "\n",
            "  FitFailedWarning)\n",
            "/usr/local/lib/python3.7/dist-packages/sklearn/model_selection/_validation.py:536: FitFailedWarning: Estimator fit failed. The score on this train-test partition for these parameters will be set to nan. Details: \n",
            "ValueError: Expected n_neighbors > 0. Got 0\n",
            "\n",
            "  FitFailedWarning)\n",
            "/usr/local/lib/python3.7/dist-packages/sklearn/model_selection/_validation.py:536: FitFailedWarning: Estimator fit failed. The score on this train-test partition for these parameters will be set to nan. Details: \n",
            "ValueError: Expected n_neighbors > 0. Got 0\n",
            "\n",
            "  FitFailedWarning)\n",
            "/usr/local/lib/python3.7/dist-packages/sklearn/model_selection/_validation.py:536: FitFailedWarning: Estimator fit failed. The score on this train-test partition for these parameters will be set to nan. Details: \n",
            "ValueError: Expected n_neighbors > 0. Got 0\n",
            "\n",
            "  FitFailedWarning)\n",
            "/usr/local/lib/python3.7/dist-packages/sklearn/model_selection/_validation.py:536: FitFailedWarning: Estimator fit failed. The score on this train-test partition for these parameters will be set to nan. Details: \n",
            "ValueError: Expected n_neighbors > 0. Got 0\n",
            "\n",
            "  FitFailedWarning)\n",
            "/usr/local/lib/python3.7/dist-packages/sklearn/model_selection/_validation.py:536: FitFailedWarning: Estimator fit failed. The score on this train-test partition for these parameters will be set to nan. Details: \n",
            "ValueError: Expected n_neighbors > 0. Got 0\n",
            "\n",
            "  FitFailedWarning)\n",
            "/usr/local/lib/python3.7/dist-packages/sklearn/model_selection/_validation.py:536: FitFailedWarning: Estimator fit failed. The score on this train-test partition for these parameters will be set to nan. Details: \n",
            "ValueError: Expected n_neighbors > 0. Got 0\n",
            "\n",
            "  FitFailedWarning)\n",
            "/usr/local/lib/python3.7/dist-packages/sklearn/model_selection/_validation.py:536: FitFailedWarning: Estimator fit failed. The score on this train-test partition for these parameters will be set to nan. Details: \n",
            "ValueError: Expected n_neighbors > 0. Got 0\n",
            "\n",
            "  FitFailedWarning)\n",
            "/usr/local/lib/python3.7/dist-packages/sklearn/model_selection/_validation.py:536: FitFailedWarning: Estimator fit failed. The score on this train-test partition for these parameters will be set to nan. Details: \n",
            "ValueError: Expected n_neighbors > 0. Got 0\n",
            "\n",
            "  FitFailedWarning)\n",
            "/usr/local/lib/python3.7/dist-packages/sklearn/model_selection/_validation.py:536: FitFailedWarning: Estimator fit failed. The score on this train-test partition for these parameters will be set to nan. Details: \n",
            "ValueError: Expected n_neighbors > 0. Got 0\n",
            "\n",
            "  FitFailedWarning)\n",
            "/usr/local/lib/python3.7/dist-packages/sklearn/model_selection/_validation.py:536: FitFailedWarning: Estimator fit failed. The score on this train-test partition for these parameters will be set to nan. Details: \n",
            "ValueError: Expected n_neighbors > 0. Got 0\n",
            "\n",
            "  FitFailedWarning)\n"
          ],
          "name": "stderr"
        },
        {
          "output_type": "stream",
          "text": [
            "Ordenado por Acurácia: \n",
            "     Acurácia  Sensibilidade  Precisão\n",
            "2     0.9372         0.7750    0.9022\n",
            "4     0.9499         0.8714    0.8851\n",
            "1     0.9509         0.8736    0.8840\n",
            "8     0.9537         0.9146    0.8683\n",
            "6     0.9542         0.9011    0.8813\n",
            "10    0.9552         0.9307    0.8644\n",
            "7     0.9557         0.9406    0.8578\n",
            "3     0.9564         0.9168    0.8777\n",
            "34    0.9566         0.9500    0.8573\n",
            "12    0.9569         0.9348    0.8672\n",
            "5     0.9576         0.9388    0.8636\n",
            "39    0.9579         0.9581    0.8540\n",
            "47    0.9581         0.9620    0.8509\n",
            "38    0.9581         0.9582    0.8556\n",
            "49    0.9581         0.9645    0.8494\n",
            "15    0.9581         0.9605    0.8500\n",
            "48    0.9582         0.9613    0.8504\n",
            "32    0.9584         0.9512    0.8605\n",
            "46    0.9584         0.9579    0.8561\n",
            "44    0.9584         0.9614    0.8519\n",
            "40    0.9584         0.9581    0.8553\n",
            "11    0.9584         0.9536    0.8554\n",
            "13    0.9584         0.9556    0.8580\n",
            "37    0.9584         0.9594    0.8596\n",
            "41    0.9586         0.9641    0.8517\n",
            "18    0.9589         0.9483    0.8628\n",
            "42    0.9589         0.9605    0.8575\n",
            "43    0.9591         0.9643    0.8560\n",
            "14    0.9591         0.9532    0.8655\n",
            "33    0.9591         0.9595    0.8575\n",
            "16    0.9591         0.9510    0.8649\n",
            "45    0.9592         0.9610    0.8550\n",
            "30    0.9594         0.9552    0.8606\n",
            "24    0.9594         0.9523    0.8636\n",
            "22    0.9596         0.9549    0.8645\n",
            "20    0.9596         0.9541    0.8646\n",
            "9     0.9597         0.9616    0.8575\n",
            "36    0.9599         0.9618    0.8580\n",
            "31    0.9599         0.9641    0.8592\n",
            "35    0.9601         0.9652    0.8590\n",
            "17    0.9604         0.9688    0.8580\n",
            "26    0.9606         0.9597    0.8633\n",
            "27    0.9611         0.9652    0.8610\n",
            "19    0.9611         0.9677    0.8563\n",
            "21    0.9612         0.9702    0.8611\n",
            "28    0.9614         0.9603    0.8644\n",
            "29    0.9616         0.9668    0.8613\n",
            "23    0.9619         0.9685    0.8623\n",
            "25    0.9624         0.9701    0.8634\n",
            "0        NaN            NaN       NaN\n"
          ],
          "name": "stdout"
        }
      ]
    },
    {
      "cell_type": "code",
      "metadata": {
        "colab": {
          "base_uri": "https://localhost:8080/"
        },
        "id": "Zc1lWBPFA3uM",
        "outputId": "cb7e0ffe-e60b-4177-8299-5e7ab0ac52c7"
      },
      "source": [
        "list_acuracia = []\n",
        "list_sensibilidade = []\n",
        "list_precisao = []\n",
        "vetor = []\n",
        "\n",
        "for profundidade in range(10):\n",
        "  modelo = DecisionTreeClassifier(max_depth = profundidade)\n",
        "  tree = cross_validate(modelo, X, y, cv = validacao, scoring=['accuracy', 'recall', 'precision'])\n",
        "  \n",
        "  acuracia = round(tree['test_accuracy'].mean(), 4)\n",
        "  sensibilidade = round(tree['test_recall'].mean(), 4)\n",
        "  precisao = round(tree['test_precision'].mean(), 4)\n",
        "\n",
        "  vetor.append(profundidade)\n",
        "  list_acuracia.append(acuracia)\n",
        "  list_sensibilidade.append(sensibilidade)\n",
        "  list_precisao.append(precisao)\n",
        "\n",
        "aux = {'Acurácia': list_acuracia, 'Sensibilidade': list_sensibilidade, 'Precisão': list_precisao}\n",
        "resultados = pd.DataFrame(aux, index = vetor)\n",
        "resultados\n",
        "print(\"Ordenado por Acurácia: \\n\", resultados.sort_values(by = 'Acurácia'))"
      ],
      "execution_count": 21,
      "outputs": [
        {
          "output_type": "stream",
          "text": [
            "/usr/local/lib/python3.7/dist-packages/sklearn/model_selection/_validation.py:536: FitFailedWarning: Estimator fit failed. The score on this train-test partition for these parameters will be set to nan. Details: \n",
            "ValueError: max_depth must be greater than zero. \n",
            "\n",
            "  FitFailedWarning)\n",
            "/usr/local/lib/python3.7/dist-packages/sklearn/model_selection/_validation.py:536: FitFailedWarning: Estimator fit failed. The score on this train-test partition for these parameters will be set to nan. Details: \n",
            "ValueError: max_depth must be greater than zero. \n",
            "\n",
            "  FitFailedWarning)\n",
            "/usr/local/lib/python3.7/dist-packages/sklearn/model_selection/_validation.py:536: FitFailedWarning: Estimator fit failed. The score on this train-test partition for these parameters will be set to nan. Details: \n",
            "ValueError: max_depth must be greater than zero. \n",
            "\n",
            "  FitFailedWarning)\n",
            "/usr/local/lib/python3.7/dist-packages/sklearn/model_selection/_validation.py:536: FitFailedWarning: Estimator fit failed. The score on this train-test partition for these parameters will be set to nan. Details: \n",
            "ValueError: max_depth must be greater than zero. \n",
            "\n",
            "  FitFailedWarning)\n",
            "/usr/local/lib/python3.7/dist-packages/sklearn/model_selection/_validation.py:536: FitFailedWarning: Estimator fit failed. The score on this train-test partition for these parameters will be set to nan. Details: \n",
            "ValueError: max_depth must be greater than zero. \n",
            "\n",
            "  FitFailedWarning)\n",
            "/usr/local/lib/python3.7/dist-packages/sklearn/model_selection/_validation.py:536: FitFailedWarning: Estimator fit failed. The score on this train-test partition for these parameters will be set to nan. Details: \n",
            "ValueError: max_depth must be greater than zero. \n",
            "\n",
            "  FitFailedWarning)\n",
            "/usr/local/lib/python3.7/dist-packages/sklearn/model_selection/_validation.py:536: FitFailedWarning: Estimator fit failed. The score on this train-test partition for these parameters will be set to nan. Details: \n",
            "ValueError: max_depth must be greater than zero. \n",
            "\n",
            "  FitFailedWarning)\n",
            "/usr/local/lib/python3.7/dist-packages/sklearn/model_selection/_validation.py:536: FitFailedWarning: Estimator fit failed. The score on this train-test partition for these parameters will be set to nan. Details: \n",
            "ValueError: max_depth must be greater than zero. \n",
            "\n",
            "  FitFailedWarning)\n",
            "/usr/local/lib/python3.7/dist-packages/sklearn/model_selection/_validation.py:536: FitFailedWarning: Estimator fit failed. The score on this train-test partition for these parameters will be set to nan. Details: \n",
            "ValueError: max_depth must be greater than zero. \n",
            "\n",
            "  FitFailedWarning)\n",
            "/usr/local/lib/python3.7/dist-packages/sklearn/model_selection/_validation.py:536: FitFailedWarning: Estimator fit failed. The score on this train-test partition for these parameters will be set to nan. Details: \n",
            "ValueError: max_depth must be greater than zero. \n",
            "\n",
            "  FitFailedWarning)\n",
            "/usr/local/lib/python3.7/dist-packages/sklearn/model_selection/_validation.py:536: FitFailedWarning: Estimator fit failed. The score on this train-test partition for these parameters will be set to nan. Details: \n",
            "ValueError: max_depth must be greater than zero. \n",
            "\n",
            "  FitFailedWarning)\n",
            "/usr/local/lib/python3.7/dist-packages/sklearn/model_selection/_validation.py:536: FitFailedWarning: Estimator fit failed. The score on this train-test partition for these parameters will be set to nan. Details: \n",
            "ValueError: max_depth must be greater than zero. \n",
            "\n",
            "  FitFailedWarning)\n",
            "/usr/local/lib/python3.7/dist-packages/sklearn/model_selection/_validation.py:536: FitFailedWarning: Estimator fit failed. The score on this train-test partition for these parameters will be set to nan. Details: \n",
            "ValueError: max_depth must be greater than zero. \n",
            "\n",
            "  FitFailedWarning)\n",
            "/usr/local/lib/python3.7/dist-packages/sklearn/model_selection/_validation.py:536: FitFailedWarning: Estimator fit failed. The score on this train-test partition for these parameters will be set to nan. Details: \n",
            "ValueError: max_depth must be greater than zero. \n",
            "\n",
            "  FitFailedWarning)\n",
            "/usr/local/lib/python3.7/dist-packages/sklearn/model_selection/_validation.py:536: FitFailedWarning: Estimator fit failed. The score on this train-test partition for these parameters will be set to nan. Details: \n",
            "ValueError: max_depth must be greater than zero. \n",
            "\n",
            "  FitFailedWarning)\n",
            "/usr/local/lib/python3.7/dist-packages/sklearn/model_selection/_validation.py:536: FitFailedWarning: Estimator fit failed. The score on this train-test partition for these parameters will be set to nan. Details: \n",
            "ValueError: max_depth must be greater than zero. \n",
            "\n",
            "  FitFailedWarning)\n",
            "/usr/local/lib/python3.7/dist-packages/sklearn/model_selection/_validation.py:536: FitFailedWarning: Estimator fit failed. The score on this train-test partition for these parameters will be set to nan. Details: \n",
            "ValueError: max_depth must be greater than zero. \n",
            "\n",
            "  FitFailedWarning)\n",
            "/usr/local/lib/python3.7/dist-packages/sklearn/model_selection/_validation.py:536: FitFailedWarning: Estimator fit failed. The score on this train-test partition for these parameters will be set to nan. Details: \n",
            "ValueError: max_depth must be greater than zero. \n",
            "\n",
            "  FitFailedWarning)\n",
            "/usr/local/lib/python3.7/dist-packages/sklearn/model_selection/_validation.py:536: FitFailedWarning: Estimator fit failed. The score on this train-test partition for these parameters will be set to nan. Details: \n",
            "ValueError: max_depth must be greater than zero. \n",
            "\n",
            "  FitFailedWarning)\n",
            "/usr/local/lib/python3.7/dist-packages/sklearn/model_selection/_validation.py:536: FitFailedWarning: Estimator fit failed. The score on this train-test partition for these parameters will be set to nan. Details: \n",
            "ValueError: max_depth must be greater than zero. \n",
            "\n",
            "  FitFailedWarning)\n",
            "/usr/local/lib/python3.7/dist-packages/sklearn/model_selection/_validation.py:536: FitFailedWarning: Estimator fit failed. The score on this train-test partition for these parameters will be set to nan. Details: \n",
            "ValueError: max_depth must be greater than zero. \n",
            "\n",
            "  FitFailedWarning)\n",
            "/usr/local/lib/python3.7/dist-packages/sklearn/model_selection/_validation.py:536: FitFailedWarning: Estimator fit failed. The score on this train-test partition for these parameters will be set to nan. Details: \n",
            "ValueError: max_depth must be greater than zero. \n",
            "\n",
            "  FitFailedWarning)\n",
            "/usr/local/lib/python3.7/dist-packages/sklearn/model_selection/_validation.py:536: FitFailedWarning: Estimator fit failed. The score on this train-test partition for these parameters will be set to nan. Details: \n",
            "ValueError: max_depth must be greater than zero. \n",
            "\n",
            "  FitFailedWarning)\n",
            "/usr/local/lib/python3.7/dist-packages/sklearn/model_selection/_validation.py:536: FitFailedWarning: Estimator fit failed. The score on this train-test partition for these parameters will be set to nan. Details: \n",
            "ValueError: max_depth must be greater than zero. \n",
            "\n",
            "  FitFailedWarning)\n",
            "/usr/local/lib/python3.7/dist-packages/sklearn/model_selection/_validation.py:536: FitFailedWarning: Estimator fit failed. The score on this train-test partition for these parameters will be set to nan. Details: \n",
            "ValueError: max_depth must be greater than zero. \n",
            "\n",
            "  FitFailedWarning)\n",
            "/usr/local/lib/python3.7/dist-packages/sklearn/model_selection/_validation.py:536: FitFailedWarning: Estimator fit failed. The score on this train-test partition for these parameters will be set to nan. Details: \n",
            "ValueError: max_depth must be greater than zero. \n",
            "\n",
            "  FitFailedWarning)\n",
            "/usr/local/lib/python3.7/dist-packages/sklearn/model_selection/_validation.py:536: FitFailedWarning: Estimator fit failed. The score on this train-test partition for these parameters will be set to nan. Details: \n",
            "ValueError: max_depth must be greater than zero. \n",
            "\n",
            "  FitFailedWarning)\n",
            "/usr/local/lib/python3.7/dist-packages/sklearn/model_selection/_validation.py:536: FitFailedWarning: Estimator fit failed. The score on this train-test partition for these parameters will be set to nan. Details: \n",
            "ValueError: max_depth must be greater than zero. \n",
            "\n",
            "  FitFailedWarning)\n",
            "/usr/local/lib/python3.7/dist-packages/sklearn/model_selection/_validation.py:536: FitFailedWarning: Estimator fit failed. The score on this train-test partition for these parameters will be set to nan. Details: \n",
            "ValueError: max_depth must be greater than zero. \n",
            "\n",
            "  FitFailedWarning)\n",
            "/usr/local/lib/python3.7/dist-packages/sklearn/model_selection/_validation.py:536: FitFailedWarning: Estimator fit failed. The score on this train-test partition for these parameters will be set to nan. Details: \n",
            "ValueError: max_depth must be greater than zero. \n",
            "\n",
            "  FitFailedWarning)\n"
          ],
          "name": "stderr"
        },
        {
          "output_type": "stream",
          "text": [
            "Ordenado por Acurácia: \n",
            "    Acurácia  Sensibilidade  Precisão\n",
            "1    0.9255         0.9572    0.7472\n",
            "2    0.9260         0.9564    0.7498\n",
            "8    0.9429         0.8652    0.8554\n",
            "9    0.9482         0.8729    0.8740\n",
            "7    0.9504         0.9070    0.8610\n",
            "5    0.9516         0.9034    0.8673\n",
            "6    0.9537         0.9175    0.8681\n",
            "4    0.9604         0.9600    0.8621\n",
            "3    0.9626         0.9641    0.8685\n",
            "0       NaN            NaN       NaN\n"
          ],
          "name": "stdout"
        }
      ]
    },
    {
      "cell_type": "code",
      "metadata": {
        "colab": {
          "base_uri": "https://localhost:8080/"
        },
        "id": "MH3Z2ZIzBocN",
        "outputId": "963cd7d2-7f6b-48b7-bed9-0c12a0642e8d"
      },
      "source": [
        "validacao = RepeatedKFold(n_splits = 10, n_repeats = 5)\n",
        "\n",
        "list_acuracia = []\n",
        "list_sensibilidade = []\n",
        "list_precisao = []\n",
        "vetor = []\n",
        "\n",
        "for folha in range(50):\n",
        "  modelo = DecisionTreeClassifier(max_depth = 3, min_samples_leaf= folha)\n",
        "  tree = cross_validate(modelo, X, y, cv = validacao, scoring=['accuracy', 'recall', 'precision'])\n",
        "  \n",
        "  acuracia = round(tree['test_accuracy'].mean(), 4)\n",
        "  sensibilidade = round(tree['test_recall'].mean(), 4)\n",
        "  precisao = round(tree['test_precision'].mean(), 4)\n",
        "\n",
        "  vetor.append(folha)\n",
        "  list_acuracia.append(acuracia)\n",
        "  list_sensibilidade.append(sensibilidade)\n",
        "  list_precisao.append(precisao)\n",
        "\n",
        "aux = {'Acurácia': list_acuracia, 'Sensibilidade': list_sensibilidade, 'Precisão': list_precisao}\n",
        "resultados = pd.DataFrame(aux, index = vetor)\n",
        "resultados\n",
        "print(\"Ordenado por Acurácia: \\n\", resultados.sort_values(by = 'Acurácia', ascending = False))"
      ],
      "execution_count": 22,
      "outputs": [
        {
          "output_type": "stream",
          "text": [
            "/usr/local/lib/python3.7/dist-packages/sklearn/model_selection/_validation.py:536: FitFailedWarning: Estimator fit failed. The score on this train-test partition for these parameters will be set to nan. Details: \n",
            "ValueError: min_samples_leaf must be at least 1 or in (0, 0.5], got 0\n",
            "\n",
            "  FitFailedWarning)\n",
            "/usr/local/lib/python3.7/dist-packages/sklearn/model_selection/_validation.py:536: FitFailedWarning: Estimator fit failed. The score on this train-test partition for these parameters will be set to nan. Details: \n",
            "ValueError: min_samples_leaf must be at least 1 or in (0, 0.5], got 0\n",
            "\n",
            "  FitFailedWarning)\n",
            "/usr/local/lib/python3.7/dist-packages/sklearn/model_selection/_validation.py:536: FitFailedWarning: Estimator fit failed. The score on this train-test partition for these parameters will be set to nan. Details: \n",
            "ValueError: min_samples_leaf must be at least 1 or in (0, 0.5], got 0\n",
            "\n",
            "  FitFailedWarning)\n",
            "/usr/local/lib/python3.7/dist-packages/sklearn/model_selection/_validation.py:536: FitFailedWarning: Estimator fit failed. The score on this train-test partition for these parameters will be set to nan. Details: \n",
            "ValueError: min_samples_leaf must be at least 1 or in (0, 0.5], got 0\n",
            "\n",
            "  FitFailedWarning)\n",
            "/usr/local/lib/python3.7/dist-packages/sklearn/model_selection/_validation.py:536: FitFailedWarning: Estimator fit failed. The score on this train-test partition for these parameters will be set to nan. Details: \n",
            "ValueError: min_samples_leaf must be at least 1 or in (0, 0.5], got 0\n",
            "\n",
            "  FitFailedWarning)\n",
            "/usr/local/lib/python3.7/dist-packages/sklearn/model_selection/_validation.py:536: FitFailedWarning: Estimator fit failed. The score on this train-test partition for these parameters will be set to nan. Details: \n",
            "ValueError: min_samples_leaf must be at least 1 or in (0, 0.5], got 0\n",
            "\n",
            "  FitFailedWarning)\n",
            "/usr/local/lib/python3.7/dist-packages/sklearn/model_selection/_validation.py:536: FitFailedWarning: Estimator fit failed. The score on this train-test partition for these parameters will be set to nan. Details: \n",
            "ValueError: min_samples_leaf must be at least 1 or in (0, 0.5], got 0\n",
            "\n",
            "  FitFailedWarning)\n",
            "/usr/local/lib/python3.7/dist-packages/sklearn/model_selection/_validation.py:536: FitFailedWarning: Estimator fit failed. The score on this train-test partition for these parameters will be set to nan. Details: \n",
            "ValueError: min_samples_leaf must be at least 1 or in (0, 0.5], got 0\n",
            "\n",
            "  FitFailedWarning)\n",
            "/usr/local/lib/python3.7/dist-packages/sklearn/model_selection/_validation.py:536: FitFailedWarning: Estimator fit failed. The score on this train-test partition for these parameters will be set to nan. Details: \n",
            "ValueError: min_samples_leaf must be at least 1 or in (0, 0.5], got 0\n",
            "\n",
            "  FitFailedWarning)\n",
            "/usr/local/lib/python3.7/dist-packages/sklearn/model_selection/_validation.py:536: FitFailedWarning: Estimator fit failed. The score on this train-test partition for these parameters will be set to nan. Details: \n",
            "ValueError: min_samples_leaf must be at least 1 or in (0, 0.5], got 0\n",
            "\n",
            "  FitFailedWarning)\n",
            "/usr/local/lib/python3.7/dist-packages/sklearn/model_selection/_validation.py:536: FitFailedWarning: Estimator fit failed. The score on this train-test partition for these parameters will be set to nan. Details: \n",
            "ValueError: min_samples_leaf must be at least 1 or in (0, 0.5], got 0\n",
            "\n",
            "  FitFailedWarning)\n",
            "/usr/local/lib/python3.7/dist-packages/sklearn/model_selection/_validation.py:536: FitFailedWarning: Estimator fit failed. The score on this train-test partition for these parameters will be set to nan. Details: \n",
            "ValueError: min_samples_leaf must be at least 1 or in (0, 0.5], got 0\n",
            "\n",
            "  FitFailedWarning)\n",
            "/usr/local/lib/python3.7/dist-packages/sklearn/model_selection/_validation.py:536: FitFailedWarning: Estimator fit failed. The score on this train-test partition for these parameters will be set to nan. Details: \n",
            "ValueError: min_samples_leaf must be at least 1 or in (0, 0.5], got 0\n",
            "\n",
            "  FitFailedWarning)\n",
            "/usr/local/lib/python3.7/dist-packages/sklearn/model_selection/_validation.py:536: FitFailedWarning: Estimator fit failed. The score on this train-test partition for these parameters will be set to nan. Details: \n",
            "ValueError: min_samples_leaf must be at least 1 or in (0, 0.5], got 0\n",
            "\n",
            "  FitFailedWarning)\n",
            "/usr/local/lib/python3.7/dist-packages/sklearn/model_selection/_validation.py:536: FitFailedWarning: Estimator fit failed. The score on this train-test partition for these parameters will be set to nan. Details: \n",
            "ValueError: min_samples_leaf must be at least 1 or in (0, 0.5], got 0\n",
            "\n",
            "  FitFailedWarning)\n",
            "/usr/local/lib/python3.7/dist-packages/sklearn/model_selection/_validation.py:536: FitFailedWarning: Estimator fit failed. The score on this train-test partition for these parameters will be set to nan. Details: \n",
            "ValueError: min_samples_leaf must be at least 1 or in (0, 0.5], got 0\n",
            "\n",
            "  FitFailedWarning)\n",
            "/usr/local/lib/python3.7/dist-packages/sklearn/model_selection/_validation.py:536: FitFailedWarning: Estimator fit failed. The score on this train-test partition for these parameters will be set to nan. Details: \n",
            "ValueError: min_samples_leaf must be at least 1 or in (0, 0.5], got 0\n",
            "\n",
            "  FitFailedWarning)\n",
            "/usr/local/lib/python3.7/dist-packages/sklearn/model_selection/_validation.py:536: FitFailedWarning: Estimator fit failed. The score on this train-test partition for these parameters will be set to nan. Details: \n",
            "ValueError: min_samples_leaf must be at least 1 or in (0, 0.5], got 0\n",
            "\n",
            "  FitFailedWarning)\n",
            "/usr/local/lib/python3.7/dist-packages/sklearn/model_selection/_validation.py:536: FitFailedWarning: Estimator fit failed. The score on this train-test partition for these parameters will be set to nan. Details: \n",
            "ValueError: min_samples_leaf must be at least 1 or in (0, 0.5], got 0\n",
            "\n",
            "  FitFailedWarning)\n",
            "/usr/local/lib/python3.7/dist-packages/sklearn/model_selection/_validation.py:536: FitFailedWarning: Estimator fit failed. The score on this train-test partition for these parameters will be set to nan. Details: \n",
            "ValueError: min_samples_leaf must be at least 1 or in (0, 0.5], got 0\n",
            "\n",
            "  FitFailedWarning)\n",
            "/usr/local/lib/python3.7/dist-packages/sklearn/model_selection/_validation.py:536: FitFailedWarning: Estimator fit failed. The score on this train-test partition for these parameters will be set to nan. Details: \n",
            "ValueError: min_samples_leaf must be at least 1 or in (0, 0.5], got 0\n",
            "\n",
            "  FitFailedWarning)\n",
            "/usr/local/lib/python3.7/dist-packages/sklearn/model_selection/_validation.py:536: FitFailedWarning: Estimator fit failed. The score on this train-test partition for these parameters will be set to nan. Details: \n",
            "ValueError: min_samples_leaf must be at least 1 or in (0, 0.5], got 0\n",
            "\n",
            "  FitFailedWarning)\n",
            "/usr/local/lib/python3.7/dist-packages/sklearn/model_selection/_validation.py:536: FitFailedWarning: Estimator fit failed. The score on this train-test partition for these parameters will be set to nan. Details: \n",
            "ValueError: min_samples_leaf must be at least 1 or in (0, 0.5], got 0\n",
            "\n",
            "  FitFailedWarning)\n",
            "/usr/local/lib/python3.7/dist-packages/sklearn/model_selection/_validation.py:536: FitFailedWarning: Estimator fit failed. The score on this train-test partition for these parameters will be set to nan. Details: \n",
            "ValueError: min_samples_leaf must be at least 1 or in (0, 0.5], got 0\n",
            "\n",
            "  FitFailedWarning)\n",
            "/usr/local/lib/python3.7/dist-packages/sklearn/model_selection/_validation.py:536: FitFailedWarning: Estimator fit failed. The score on this train-test partition for these parameters will be set to nan. Details: \n",
            "ValueError: min_samples_leaf must be at least 1 or in (0, 0.5], got 0\n",
            "\n",
            "  FitFailedWarning)\n",
            "/usr/local/lib/python3.7/dist-packages/sklearn/model_selection/_validation.py:536: FitFailedWarning: Estimator fit failed. The score on this train-test partition for these parameters will be set to nan. Details: \n",
            "ValueError: min_samples_leaf must be at least 1 or in (0, 0.5], got 0\n",
            "\n",
            "  FitFailedWarning)\n",
            "/usr/local/lib/python3.7/dist-packages/sklearn/model_selection/_validation.py:536: FitFailedWarning: Estimator fit failed. The score on this train-test partition for these parameters will be set to nan. Details: \n",
            "ValueError: min_samples_leaf must be at least 1 or in (0, 0.5], got 0\n",
            "\n",
            "  FitFailedWarning)\n",
            "/usr/local/lib/python3.7/dist-packages/sklearn/model_selection/_validation.py:536: FitFailedWarning: Estimator fit failed. The score on this train-test partition for these parameters will be set to nan. Details: \n",
            "ValueError: min_samples_leaf must be at least 1 or in (0, 0.5], got 0\n",
            "\n",
            "  FitFailedWarning)\n",
            "/usr/local/lib/python3.7/dist-packages/sklearn/model_selection/_validation.py:536: FitFailedWarning: Estimator fit failed. The score on this train-test partition for these parameters will be set to nan. Details: \n",
            "ValueError: min_samples_leaf must be at least 1 or in (0, 0.5], got 0\n",
            "\n",
            "  FitFailedWarning)\n",
            "/usr/local/lib/python3.7/dist-packages/sklearn/model_selection/_validation.py:536: FitFailedWarning: Estimator fit failed. The score on this train-test partition for these parameters will be set to nan. Details: \n",
            "ValueError: min_samples_leaf must be at least 1 or in (0, 0.5], got 0\n",
            "\n",
            "  FitFailedWarning)\n",
            "/usr/local/lib/python3.7/dist-packages/sklearn/model_selection/_validation.py:536: FitFailedWarning: Estimator fit failed. The score on this train-test partition for these parameters will be set to nan. Details: \n",
            "ValueError: min_samples_leaf must be at least 1 or in (0, 0.5], got 0\n",
            "\n",
            "  FitFailedWarning)\n",
            "/usr/local/lib/python3.7/dist-packages/sklearn/model_selection/_validation.py:536: FitFailedWarning: Estimator fit failed. The score on this train-test partition for these parameters will be set to nan. Details: \n",
            "ValueError: min_samples_leaf must be at least 1 or in (0, 0.5], got 0\n",
            "\n",
            "  FitFailedWarning)\n",
            "/usr/local/lib/python3.7/dist-packages/sklearn/model_selection/_validation.py:536: FitFailedWarning: Estimator fit failed. The score on this train-test partition for these parameters will be set to nan. Details: \n",
            "ValueError: min_samples_leaf must be at least 1 or in (0, 0.5], got 0\n",
            "\n",
            "  FitFailedWarning)\n",
            "/usr/local/lib/python3.7/dist-packages/sklearn/model_selection/_validation.py:536: FitFailedWarning: Estimator fit failed. The score on this train-test partition for these parameters will be set to nan. Details: \n",
            "ValueError: min_samples_leaf must be at least 1 or in (0, 0.5], got 0\n",
            "\n",
            "  FitFailedWarning)\n",
            "/usr/local/lib/python3.7/dist-packages/sklearn/model_selection/_validation.py:536: FitFailedWarning: Estimator fit failed. The score on this train-test partition for these parameters will be set to nan. Details: \n",
            "ValueError: min_samples_leaf must be at least 1 or in (0, 0.5], got 0\n",
            "\n",
            "  FitFailedWarning)\n",
            "/usr/local/lib/python3.7/dist-packages/sklearn/model_selection/_validation.py:536: FitFailedWarning: Estimator fit failed. The score on this train-test partition for these parameters will be set to nan. Details: \n",
            "ValueError: min_samples_leaf must be at least 1 or in (0, 0.5], got 0\n",
            "\n",
            "  FitFailedWarning)\n",
            "/usr/local/lib/python3.7/dist-packages/sklearn/model_selection/_validation.py:536: FitFailedWarning: Estimator fit failed. The score on this train-test partition for these parameters will be set to nan. Details: \n",
            "ValueError: min_samples_leaf must be at least 1 or in (0, 0.5], got 0\n",
            "\n",
            "  FitFailedWarning)\n",
            "/usr/local/lib/python3.7/dist-packages/sklearn/model_selection/_validation.py:536: FitFailedWarning: Estimator fit failed. The score on this train-test partition for these parameters will be set to nan. Details: \n",
            "ValueError: min_samples_leaf must be at least 1 or in (0, 0.5], got 0\n",
            "\n",
            "  FitFailedWarning)\n",
            "/usr/local/lib/python3.7/dist-packages/sklearn/model_selection/_validation.py:536: FitFailedWarning: Estimator fit failed. The score on this train-test partition for these parameters will be set to nan. Details: \n",
            "ValueError: min_samples_leaf must be at least 1 or in (0, 0.5], got 0\n",
            "\n",
            "  FitFailedWarning)\n",
            "/usr/local/lib/python3.7/dist-packages/sklearn/model_selection/_validation.py:536: FitFailedWarning: Estimator fit failed. The score on this train-test partition for these parameters will be set to nan. Details: \n",
            "ValueError: min_samples_leaf must be at least 1 or in (0, 0.5], got 0\n",
            "\n",
            "  FitFailedWarning)\n",
            "/usr/local/lib/python3.7/dist-packages/sklearn/model_selection/_validation.py:536: FitFailedWarning: Estimator fit failed. The score on this train-test partition for these parameters will be set to nan. Details: \n",
            "ValueError: min_samples_leaf must be at least 1 or in (0, 0.5], got 0\n",
            "\n",
            "  FitFailedWarning)\n",
            "/usr/local/lib/python3.7/dist-packages/sklearn/model_selection/_validation.py:536: FitFailedWarning: Estimator fit failed. The score on this train-test partition for these parameters will be set to nan. Details: \n",
            "ValueError: min_samples_leaf must be at least 1 or in (0, 0.5], got 0\n",
            "\n",
            "  FitFailedWarning)\n",
            "/usr/local/lib/python3.7/dist-packages/sklearn/model_selection/_validation.py:536: FitFailedWarning: Estimator fit failed. The score on this train-test partition for these parameters will be set to nan. Details: \n",
            "ValueError: min_samples_leaf must be at least 1 or in (0, 0.5], got 0\n",
            "\n",
            "  FitFailedWarning)\n",
            "/usr/local/lib/python3.7/dist-packages/sklearn/model_selection/_validation.py:536: FitFailedWarning: Estimator fit failed. The score on this train-test partition for these parameters will be set to nan. Details: \n",
            "ValueError: min_samples_leaf must be at least 1 or in (0, 0.5], got 0\n",
            "\n",
            "  FitFailedWarning)\n",
            "/usr/local/lib/python3.7/dist-packages/sklearn/model_selection/_validation.py:536: FitFailedWarning: Estimator fit failed. The score on this train-test partition for these parameters will be set to nan. Details: \n",
            "ValueError: min_samples_leaf must be at least 1 or in (0, 0.5], got 0\n",
            "\n",
            "  FitFailedWarning)\n",
            "/usr/local/lib/python3.7/dist-packages/sklearn/model_selection/_validation.py:536: FitFailedWarning: Estimator fit failed. The score on this train-test partition for these parameters will be set to nan. Details: \n",
            "ValueError: min_samples_leaf must be at least 1 or in (0, 0.5], got 0\n",
            "\n",
            "  FitFailedWarning)\n",
            "/usr/local/lib/python3.7/dist-packages/sklearn/model_selection/_validation.py:536: FitFailedWarning: Estimator fit failed. The score on this train-test partition for these parameters will be set to nan. Details: \n",
            "ValueError: min_samples_leaf must be at least 1 or in (0, 0.5], got 0\n",
            "\n",
            "  FitFailedWarning)\n",
            "/usr/local/lib/python3.7/dist-packages/sklearn/model_selection/_validation.py:536: FitFailedWarning: Estimator fit failed. The score on this train-test partition for these parameters will be set to nan. Details: \n",
            "ValueError: min_samples_leaf must be at least 1 or in (0, 0.5], got 0\n",
            "\n",
            "  FitFailedWarning)\n",
            "/usr/local/lib/python3.7/dist-packages/sklearn/model_selection/_validation.py:536: FitFailedWarning: Estimator fit failed. The score on this train-test partition for these parameters will be set to nan. Details: \n",
            "ValueError: min_samples_leaf must be at least 1 or in (0, 0.5], got 0\n",
            "\n",
            "  FitFailedWarning)\n",
            "/usr/local/lib/python3.7/dist-packages/sklearn/model_selection/_validation.py:536: FitFailedWarning: Estimator fit failed. The score on this train-test partition for these parameters will be set to nan. Details: \n",
            "ValueError: min_samples_leaf must be at least 1 or in (0, 0.5], got 0\n",
            "\n",
            "  FitFailedWarning)\n"
          ],
          "name": "stderr"
        },
        {
          "output_type": "stream",
          "text": [
            "Ordenado por Acurácia: \n",
            "     Acurácia  Sensibilidade  Precisão\n",
            "4     0.9640         0.9700    0.8734\n",
            "1     0.9631         0.9659    0.8680\n",
            "8     0.9628         0.9649    0.8710\n",
            "3     0.9625         0.9640    0.8683\n",
            "6     0.9625         0.9663    0.8654\n",
            "2     0.9623         0.9642    0.8667\n",
            "7     0.9620         0.9606    0.8705\n",
            "9     0.9620         0.9588    0.8697\n",
            "5     0.9619         0.9650    0.8663\n",
            "18    0.9610         0.9543    0.8711\n",
            "40    0.9607         0.9515    0.8691\n",
            "26    0.9607         0.9506    0.8707\n",
            "19    0.9607         0.9526    0.8690\n",
            "21    0.9607         0.9512    0.8709\n",
            "12    0.9607         0.9509    0.8676\n",
            "17    0.9605         0.9518    0.8728\n",
            "10    0.9605         0.9557    0.8647\n",
            "33    0.9605         0.9504    0.8714\n",
            "39    0.9604         0.9487    0.8701\n",
            "32    0.9602         0.9499    0.8688\n",
            "35    0.9602         0.9485    0.8697\n",
            "24    0.9602         0.9479    0.8696\n",
            "11    0.9601         0.9523    0.8666\n",
            "16    0.9601         0.9491    0.8686\n",
            "29    0.9601         0.9494    0.8675\n",
            "38    0.9599         0.9502    0.8680\n",
            "36    0.9599         0.9477    0.8695\n",
            "28    0.9598         0.9492    0.8683\n",
            "44    0.9598         0.9396    0.8752\n",
            "41    0.9598         0.9460    0.8690\n",
            "45    0.9598         0.9358    0.8779\n",
            "22    0.9598         0.9420    0.8691\n",
            "42    0.9598         0.9450    0.8675\n",
            "20    0.9598         0.9451    0.8702\n",
            "13    0.9598         0.9508    0.8677\n",
            "46    0.9597         0.9368    0.8740\n",
            "31    0.9596         0.9492    0.8660\n",
            "27    0.9596         0.9469    0.8680\n",
            "30    0.9595         0.9492    0.8674\n",
            "14    0.9595         0.9450    0.8680\n",
            "34    0.9594         0.9472    0.8672\n",
            "49    0.9593         0.9274    0.8838\n",
            "23    0.9593         0.9488    0.8668\n",
            "37    0.9592         0.9466    0.8677\n",
            "15    0.9592         0.9444    0.8689\n",
            "47    0.9588         0.9343    0.8749\n",
            "48    0.9587         0.9258    0.8786\n",
            "25    0.9587         0.9450    0.8669\n",
            "43    0.9583         0.9409    0.8677\n",
            "0        NaN            NaN       NaN\n"
          ],
          "name": "stdout"
        }
      ]
    },
    {
      "cell_type": "code",
      "metadata": {
        "colab": {
          "base_uri": "https://localhost:8080/"
        },
        "id": "hDiokYPP9Zq1",
        "outputId": "8567b271-8626-43e8-a192-467b8ab709f0"
      },
      "source": [
        "from sklearn.ensemble import VotingClassifier\n",
        "\n",
        "profundidade = 3\n",
        "tamanho_folha = 4\n",
        "k = 27\n",
        "\n",
        "reglog = LogisticRegression()\n",
        "tree = DecisionTreeClassifier(max_depth = profundidade, min_samples_leaf= tamanho_folha)\n",
        "knn = KNeighborsClassifier(n_neighbors = k)\n",
        "rdforest = RandomForestClassifier(n_estimators = 100, max_depth = 4, criterion=\"entropy\", max_features = 'auto', min_samples_leaf= tamanho_folha)\n",
        "\n",
        "\n",
        "modelos = [('Reg Log', reglog), ('Decision Tree', tree), ('KNN', knn), ('Random Forest', rdforest)]\n",
        "\n",
        "modelo = VotingClassifier(modelos, voting = 'soft')\n",
        "medidas = cross_validate(modelo, X, y, cv = validacao, scoring=\"accuracy\")\n",
        "medidas['test_score'].mean()"
      ],
      "execution_count": 23,
      "outputs": [
        {
          "output_type": "execute_result",
          "data": {
            "text/plain": [
              "0.9657737627651217"
            ]
          },
          "metadata": {},
          "execution_count": 23
        }
      ]
    }
  ]
}